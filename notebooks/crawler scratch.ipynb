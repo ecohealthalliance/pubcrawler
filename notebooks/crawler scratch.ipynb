{
 "cells": [
  {
   "cell_type": "code",
   "execution_count": 1,
   "metadata": {
    "collapsed": true
   },
   "outputs": [],
   "source": [
    "import os\n",
    "os.chdir(\"..\")"
   ]
  },
  {
   "cell_type": "code",
   "execution_count": 2,
   "metadata": {
    "collapsed": true
   },
   "outputs": [],
   "source": [
    "\"\"\"\n",
    "\n",
    "This script iterates over a specified collection of nxml articles and extracts a\n",
    "specified set of data from them.\n",
    "\n",
    "You can specify the url for the Mongo server, as well as the name of the\n",
    "database and collection.\n",
    "\n",
    "You *must* also specify one or more of the extractor functions from the\n",
    "pubcrawler.extractors module. But specify them by just their name; this package\n",
    "adds the correct suffix automatically. This should be fixed in a later version,\n",
    "but it was the only good way to allow an argument from the command line.\n",
    "\n",
    "You can also specify a -skip_field. You don't have to do this, but it's best to,\n",
    "because this is what's used to report progress (because of ugly multiprocess\n",
    "stuff, and because python's Queue.qsize() method is not implemented on macOS).\n",
    "\n",
    "You can also specify a limit, as well as the number of worker processes you\n",
    "want.\n",
    "\n",
    "\"\"\"\n",
    "\n",
    "import multiprocessing as mp\n",
    "import time\n",
    "import sys\n",
    "import pymongo\n",
    "# from annotator.keyword_annotator import KeywordAnnotator\n",
    "# from annotator.geoname_annotator import GeonameAnnotator\n",
    "import pubcrawler.extractors as ex"
   ]
  },
  {
   "cell_type": "code",
   "execution_count": 3,
   "metadata": {
    "collapsed": true
   },
   "outputs": [],
   "source": [
    "def chunk_slices(length, by):\n",
    "    items = list(range(0, length + 1, by))\n",
    "    if length % by != 0:\n",
    "        items.append(length)\n",
    "    slices = [slice(items[i], items[i+1]) for i in range(0, len(items)-1)]\n",
    "    return(slices)\n",
    "\n",
    "def worker(url, db, collection, to_extract, query, index_queue):\n",
    "    articles = pymongo.MongoClient()[db][collection]\n",
    "    cursor = articles.find(query, modifiers={\"$snapshot\": True})\n",
    "    print(\"Cursor count: {}\".format(cursor.count()))\n",
    "    for i in iter(index_queue.get, 'STOP'):\n",
    "        print(\"Trying article {}.\".format(i))\n",
    "        try:\n",
    "            article = cursor[i]\n",
    "        except IndexError:\n",
    "            print(\"Failed lookup for article{}.\".format(i))\n",
    "            continue\n",
    "        to_write = ex.combine_extracted_info(article, to_extract)\n",
    "        articles.update_one({'_id': article['_id']}, {'$set': to_write})"
   ]
  },
  {
   "cell_type": "code",
   "execution_count": 4,
   "metadata": {},
   "outputs": [
    {
     "name": "stdout",
     "output_type": "stream",
     "text": [
      "Namespace(c='articles', d='pmc', l=None, s='meta', u='localhost', w='8', x=['extract_meta'])\n"
     ]
    }
   ],
   "source": [
    "import argparse\n",
    "parser = argparse.ArgumentParser()\n",
    "parser.add_argument(\n",
    "    \"-u\", \"--mongo_url\", default=\"localhost\", dest = \"u\"\n",
    ")\n",
    "parser.add_argument(\n",
    "    \"-d\", \"--mongo_db\", default=\"pmc\", dest = \"d\"\n",
    ")\n",
    "parser.add_argument(\n",
    "    \"-c\", \"--mongo_collection\", default=\"articlesubset\", dest = \"c\"\n",
    ")\n",
    "parser.add_argument(\n",
    "    \"-x\", \"-extract\", action=\"append\", default=None, dest = \"x\"\n",
    ")\n",
    "parser.add_argument(\n",
    "    \"-s\", \"-skip_field\", default=None, dest = \"s\"\n",
    ")\n",
    "parser.add_argument(\n",
    "    \"-w\", \"-workers\", default=4, dest = \"w\"\n",
    ")\n",
    "parser.add_argument(\n",
    "    \"-l\", \"-limit\", default=None, dest = \"l\"\n",
    ")\n",
    "args = parser.parse_args([\"-x\", \"extract_meta\", \"-s\", \"meta\", \"-w\", \"8\", \"-c\", \"articles\"])\n",
    "print(args)"
   ]
  },
  {
   "cell_type": "code",
   "execution_count": 5,
   "metadata": {},
   "outputs": [
    {
     "name": "stdout",
     "output_type": "stream",
     "text": [
      "Making connection.\n"
     ]
    }
   ],
   "source": [
    "if args.x is not None:\n",
    "    extractor_funs = [eval(x) for x in ['ex.' + x for x in args.x]]\n",
    "else:\n",
    "    print(\"Please specify at least one extractor function\", file=sys.stderr)\n",
    "    sys.exit(1)\n",
    "\n",
    "if args.s is not None:\n",
    "    query = {args.s: {'$exists': False}}\n",
    "else:\n",
    "    query = {}\n",
    "\n",
    "print(\"Making connection.\")\n",
    "articles = pymongo.MongoClient(args.u)[args.d][args.c]"
   ]
  },
  {
   "cell_type": "code",
   "execution_count": 249,
   "metadata": {},
   "outputs": [
    {
     "name": "stdout",
     "output_type": "stream",
     "text": [
      "Making connection.\n",
      "About to count.\n"
     ]
    },
    {
     "ename": "KeyboardInterrupt",
     "evalue": "",
     "output_type": "error",
     "traceback": [
      "\u001b[0;31m---------------------------------------------------------------------------\u001b[0m",
      "\u001b[0;31mKeyboardInterrupt\u001b[0m                         Traceback (most recent call last)",
      "\u001b[0;32m<ipython-input-249-92ec5a1b5f2f>\u001b[0m in \u001b[0;36m<module>\u001b[0;34m()\u001b[0m\n\u001b[1;32m     14\u001b[0m \u001b[0;34m\u001b[0m\u001b[0m\n\u001b[1;32m     15\u001b[0m \u001b[0mprint\u001b[0m\u001b[0;34m(\u001b[0m\u001b[0;34m\"About to count.\"\u001b[0m\u001b[0;34m)\u001b[0m\u001b[0;34m\u001b[0m\u001b[0m\n\u001b[0;32m---> 16\u001b[0;31m \u001b[0mtotal_for_query\u001b[0m \u001b[0;34m=\u001b[0m \u001b[0marticles\u001b[0m\u001b[0;34m.\u001b[0m\u001b[0mcount\u001b[0m\u001b[0;34m(\u001b[0m\u001b[0mquery\u001b[0m\u001b[0;34m)\u001b[0m\u001b[0;34m\u001b[0m\u001b[0m\n\u001b[0m\u001b[1;32m     17\u001b[0m \u001b[0mnum_to_annotate\u001b[0m \u001b[0;34m=\u001b[0m \u001b[0margs\u001b[0m\u001b[0;34m.\u001b[0m\u001b[0ml\u001b[0m \u001b[0;32mif\u001b[0m \u001b[0margs\u001b[0m\u001b[0;34m.\u001b[0m\u001b[0ml\u001b[0m \u001b[0;32mis\u001b[0m \u001b[0;32mnot\u001b[0m \u001b[0;32mNone\u001b[0m \u001b[0;32melse\u001b[0m \u001b[0mtotal_for_query\u001b[0m\u001b[0;34m\u001b[0m\u001b[0m\n\u001b[1;32m     18\u001b[0m \u001b[0mnum_workers\u001b[0m \u001b[0;34m=\u001b[0m \u001b[0mint\u001b[0m\u001b[0;34m(\u001b[0m\u001b[0margs\u001b[0m\u001b[0;34m.\u001b[0m\u001b[0mw\u001b[0m\u001b[0;34m)\u001b[0m\u001b[0;34m\u001b[0m\u001b[0m\n",
      "\u001b[0;32m/Users/toph/.virtualenvs/pubcrawler/lib/python3.5/site-packages/pymongo/collection.py\u001b[0m in \u001b[0;36mcount\u001b[0;34m(self, filter, **kwargs)\u001b[0m\n\u001b[1;32m   1241\u001b[0m             \u001b[0mkwargs\u001b[0m\u001b[0;34m[\u001b[0m\u001b[0;34m\"hint\"\u001b[0m\u001b[0;34m]\u001b[0m \u001b[0;34m=\u001b[0m \u001b[0mhelpers\u001b[0m\u001b[0;34m.\u001b[0m\u001b[0m_index_document\u001b[0m\u001b[0;34m(\u001b[0m\u001b[0mkwargs\u001b[0m\u001b[0;34m[\u001b[0m\u001b[0;34m\"hint\"\u001b[0m\u001b[0;34m]\u001b[0m\u001b[0;34m)\u001b[0m\u001b[0;34m\u001b[0m\u001b[0m\n\u001b[1;32m   1242\u001b[0m         \u001b[0mcmd\u001b[0m\u001b[0;34m.\u001b[0m\u001b[0mupdate\u001b[0m\u001b[0;34m(\u001b[0m\u001b[0mkwargs\u001b[0m\u001b[0;34m)\u001b[0m\u001b[0;34m\u001b[0m\u001b[0m\n\u001b[0;32m-> 1243\u001b[0;31m         \u001b[0;32mreturn\u001b[0m \u001b[0mself\u001b[0m\u001b[0;34m.\u001b[0m\u001b[0m_count\u001b[0m\u001b[0;34m(\u001b[0m\u001b[0mcmd\u001b[0m\u001b[0;34m)\u001b[0m\u001b[0;34m\u001b[0m\u001b[0m\n\u001b[0m\u001b[1;32m   1244\u001b[0m \u001b[0;34m\u001b[0m\u001b[0m\n\u001b[1;32m   1245\u001b[0m     \u001b[0;32mdef\u001b[0m \u001b[0mcreate_indexes\u001b[0m\u001b[0;34m(\u001b[0m\u001b[0mself\u001b[0m\u001b[0;34m,\u001b[0m \u001b[0mindexes\u001b[0m\u001b[0;34m)\u001b[0m\u001b[0;34m:\u001b[0m\u001b[0;34m\u001b[0m\u001b[0m\n",
      "\u001b[0;32m/Users/toph/.virtualenvs/pubcrawler/lib/python3.5/site-packages/pymongo/collection.py\u001b[0m in \u001b[0;36m_count\u001b[0;34m(self, cmd)\u001b[0m\n\u001b[1;32m   1205\u001b[0m                 \u001b[0mallowable_errors\u001b[0m\u001b[0;34m=\u001b[0m\u001b[0;34m[\u001b[0m\u001b[0;34m\"ns missing\"\u001b[0m\u001b[0;34m]\u001b[0m\u001b[0;34m,\u001b[0m\u001b[0;34m\u001b[0m\u001b[0m\n\u001b[1;32m   1206\u001b[0m                 \u001b[0mcodec_options\u001b[0m\u001b[0;34m=\u001b[0m\u001b[0mself\u001b[0m\u001b[0;34m.\u001b[0m\u001b[0m__write_response_codec_options\u001b[0m\u001b[0;34m,\u001b[0m\u001b[0;34m\u001b[0m\u001b[0m\n\u001b[0;32m-> 1207\u001b[0;31m                 read_concern=self.read_concern)\n\u001b[0m\u001b[1;32m   1208\u001b[0m         \u001b[0;32mif\u001b[0m \u001b[0mres\u001b[0m\u001b[0;34m.\u001b[0m\u001b[0mget\u001b[0m\u001b[0;34m(\u001b[0m\u001b[0;34m\"errmsg\"\u001b[0m\u001b[0;34m,\u001b[0m \u001b[0;34m\"\"\u001b[0m\u001b[0;34m)\u001b[0m \u001b[0;34m==\u001b[0m \u001b[0;34m\"ns missing\"\u001b[0m\u001b[0;34m:\u001b[0m\u001b[0;34m\u001b[0m\u001b[0m\n\u001b[1;32m   1209\u001b[0m             \u001b[0;32mreturn\u001b[0m \u001b[0;36m0\u001b[0m\u001b[0;34m\u001b[0m\u001b[0m\n",
      "\u001b[0;32m/Users/toph/.virtualenvs/pubcrawler/lib/python3.5/site-packages/pymongo/collection.py\u001b[0m in \u001b[0;36m_command\u001b[0;34m(self, sock_info, command, slave_ok, read_preference, codec_options, check, allowable_errors, read_concern)\u001b[0m\n\u001b[1;32m    206\u001b[0m                                  \u001b[0mcheck\u001b[0m\u001b[0;34m,\u001b[0m\u001b[0;34m\u001b[0m\u001b[0m\n\u001b[1;32m    207\u001b[0m                                  \u001b[0mallowable_errors\u001b[0m\u001b[0;34m,\u001b[0m\u001b[0;34m\u001b[0m\u001b[0m\n\u001b[0;32m--> 208\u001b[0;31m                                  read_concern=read_concern)\n\u001b[0m\u001b[1;32m    209\u001b[0m \u001b[0;34m\u001b[0m\u001b[0m\n\u001b[1;32m    210\u001b[0m     \u001b[0;32mdef\u001b[0m \u001b[0m__create\u001b[0m\u001b[0;34m(\u001b[0m\u001b[0mself\u001b[0m\u001b[0;34m,\u001b[0m \u001b[0moptions\u001b[0m\u001b[0;34m)\u001b[0m\u001b[0;34m:\u001b[0m\u001b[0;34m\u001b[0m\u001b[0m\n",
      "\u001b[0;32m/Users/toph/.virtualenvs/pubcrawler/lib/python3.5/site-packages/pymongo/pool.py\u001b[0m in \u001b[0;36mcommand\u001b[0;34m(self, dbname, spec, slave_ok, read_preference, codec_options, check, allowable_errors, check_keys, read_concern)\u001b[0m\n\u001b[1;32m    242\u001b[0m         \u001b[0;31m# Catch socket.error, KeyboardInterrupt, etc. and close ourselves.\u001b[0m\u001b[0;34m\u001b[0m\u001b[0;34m\u001b[0m\u001b[0m\n\u001b[1;32m    243\u001b[0m         \u001b[0;32mexcept\u001b[0m \u001b[0mBaseException\u001b[0m \u001b[0;32mas\u001b[0m \u001b[0merror\u001b[0m\u001b[0;34m:\u001b[0m\u001b[0;34m\u001b[0m\u001b[0m\n\u001b[0;32m--> 244\u001b[0;31m             \u001b[0mself\u001b[0m\u001b[0;34m.\u001b[0m\u001b[0m_raise_connection_failure\u001b[0m\u001b[0;34m(\u001b[0m\u001b[0merror\u001b[0m\u001b[0;34m)\u001b[0m\u001b[0;34m\u001b[0m\u001b[0m\n\u001b[0m\u001b[1;32m    245\u001b[0m \u001b[0;34m\u001b[0m\u001b[0m\n\u001b[1;32m    246\u001b[0m     \u001b[0;32mdef\u001b[0m \u001b[0msend_message\u001b[0m\u001b[0;34m(\u001b[0m\u001b[0mself\u001b[0m\u001b[0;34m,\u001b[0m \u001b[0mmessage\u001b[0m\u001b[0;34m,\u001b[0m \u001b[0mmax_doc_size\u001b[0m\u001b[0;34m)\u001b[0m\u001b[0;34m:\u001b[0m\u001b[0;34m\u001b[0m\u001b[0m\n",
      "\u001b[0;32m/Users/toph/.virtualenvs/pubcrawler/lib/python3.5/site-packages/pymongo/pool.py\u001b[0m in \u001b[0;36m_raise_connection_failure\u001b[0;34m(self, error)\u001b[0m\n\u001b[1;32m    370\u001b[0m             \u001b[0m_raise_connection_failure\u001b[0m\u001b[0;34m(\u001b[0m\u001b[0mself\u001b[0m\u001b[0;34m.\u001b[0m\u001b[0maddress\u001b[0m\u001b[0;34m,\u001b[0m \u001b[0merror\u001b[0m\u001b[0;34m)\u001b[0m\u001b[0;34m\u001b[0m\u001b[0m\n\u001b[1;32m    371\u001b[0m         \u001b[0;32melse\u001b[0m\u001b[0;34m:\u001b[0m\u001b[0;34m\u001b[0m\u001b[0m\n\u001b[0;32m--> 372\u001b[0;31m             \u001b[0;32mraise\u001b[0m \u001b[0merror\u001b[0m\u001b[0;34m\u001b[0m\u001b[0m\n\u001b[0m\u001b[1;32m    373\u001b[0m \u001b[0;34m\u001b[0m\u001b[0m\n\u001b[1;32m    374\u001b[0m     \u001b[0;32mdef\u001b[0m \u001b[0m__eq__\u001b[0m\u001b[0;34m(\u001b[0m\u001b[0mself\u001b[0m\u001b[0;34m,\u001b[0m \u001b[0mother\u001b[0m\u001b[0;34m)\u001b[0m\u001b[0;34m:\u001b[0m\u001b[0;34m\u001b[0m\u001b[0m\n",
      "\u001b[0;32m/Users/toph/.virtualenvs/pubcrawler/lib/python3.5/site-packages/pymongo/pool.py\u001b[0m in \u001b[0;36mcommand\u001b[0;34m(self, dbname, spec, slave_ok, read_preference, codec_options, check, allowable_errors, check_keys, read_concern)\u001b[0m\n\u001b[1;32m    237\u001b[0m                            \u001b[0mcheck\u001b[0m\u001b[0;34m,\u001b[0m \u001b[0mallowable_errors\u001b[0m\u001b[0;34m,\u001b[0m \u001b[0mself\u001b[0m\u001b[0;34m.\u001b[0m\u001b[0maddress\u001b[0m\u001b[0;34m,\u001b[0m\u001b[0;34m\u001b[0m\u001b[0m\n\u001b[1;32m    238\u001b[0m                            \u001b[0mcheck_keys\u001b[0m\u001b[0;34m,\u001b[0m \u001b[0mself\u001b[0m\u001b[0;34m.\u001b[0m\u001b[0mlisteners\u001b[0m\u001b[0;34m,\u001b[0m \u001b[0mself\u001b[0m\u001b[0;34m.\u001b[0m\u001b[0mmax_bson_size\u001b[0m\u001b[0;34m,\u001b[0m\u001b[0;34m\u001b[0m\u001b[0m\n\u001b[0;32m--> 239\u001b[0;31m                            read_concern)\n\u001b[0m\u001b[1;32m    240\u001b[0m         \u001b[0;32mexcept\u001b[0m \u001b[0mOperationFailure\u001b[0m\u001b[0;34m:\u001b[0m\u001b[0;34m\u001b[0m\u001b[0m\n\u001b[1;32m    241\u001b[0m             \u001b[0;32mraise\u001b[0m\u001b[0;34m\u001b[0m\u001b[0m\n",
      "\u001b[0;32m/Users/toph/.virtualenvs/pubcrawler/lib/python3.5/site-packages/pymongo/network.py\u001b[0m in \u001b[0;36mcommand\u001b[0;34m(sock, dbname, spec, slave_ok, is_mongos, read_preference, codec_options, check, allowable_errors, address, check_keys, listeners, max_bson_size, read_concern)\u001b[0m\n\u001b[1;32m     94\u001b[0m     \u001b[0;32mtry\u001b[0m\u001b[0;34m:\u001b[0m\u001b[0;34m\u001b[0m\u001b[0m\n\u001b[1;32m     95\u001b[0m         \u001b[0msock\u001b[0m\u001b[0;34m.\u001b[0m\u001b[0msendall\u001b[0m\u001b[0;34m(\u001b[0m\u001b[0mmsg\u001b[0m\u001b[0;34m)\u001b[0m\u001b[0;34m\u001b[0m\u001b[0m\n\u001b[0;32m---> 96\u001b[0;31m         \u001b[0mresponse\u001b[0m \u001b[0;34m=\u001b[0m \u001b[0mreceive_message\u001b[0m\u001b[0;34m(\u001b[0m\u001b[0msock\u001b[0m\u001b[0;34m,\u001b[0m \u001b[0;36m1\u001b[0m\u001b[0;34m,\u001b[0m \u001b[0mrequest_id\u001b[0m\u001b[0;34m)\u001b[0m\u001b[0;34m\u001b[0m\u001b[0m\n\u001b[0m\u001b[1;32m     97\u001b[0m         unpacked = helpers._unpack_response(\n\u001b[1;32m     98\u001b[0m             response, codec_options=codec_options)\n",
      "\u001b[0;32m/Users/toph/.virtualenvs/pubcrawler/lib/python3.5/site-packages/pymongo/network.py\u001b[0m in \u001b[0;36mreceive_message\u001b[0;34m(sock, operation, request_id, max_message_size)\u001b[0m\n\u001b[1;32m    121\u001b[0m         sock, operation, request_id, max_message_size=MAX_MESSAGE_SIZE):\n\u001b[1;32m    122\u001b[0m     \u001b[0;34m\"\"\"Receive a raw BSON message or raise socket.error.\"\"\"\u001b[0m\u001b[0;34m\u001b[0m\u001b[0m\n\u001b[0;32m--> 123\u001b[0;31m     \u001b[0mheader\u001b[0m \u001b[0;34m=\u001b[0m \u001b[0m_receive_data_on_socket\u001b[0m\u001b[0;34m(\u001b[0m\u001b[0msock\u001b[0m\u001b[0;34m,\u001b[0m \u001b[0;36m16\u001b[0m\u001b[0;34m)\u001b[0m\u001b[0;34m\u001b[0m\u001b[0m\n\u001b[0m\u001b[1;32m    124\u001b[0m     \u001b[0mlength\u001b[0m \u001b[0;34m=\u001b[0m \u001b[0m_UNPACK_INT\u001b[0m\u001b[0;34m(\u001b[0m\u001b[0mheader\u001b[0m\u001b[0;34m[\u001b[0m\u001b[0;34m:\u001b[0m\u001b[0;36m4\u001b[0m\u001b[0;34m]\u001b[0m\u001b[0;34m)\u001b[0m\u001b[0;34m[\u001b[0m\u001b[0;36m0\u001b[0m\u001b[0;34m]\u001b[0m\u001b[0;34m\u001b[0m\u001b[0m\n\u001b[1;32m    125\u001b[0m \u001b[0;34m\u001b[0m\u001b[0m\n",
      "\u001b[0;32m/Users/toph/.virtualenvs/pubcrawler/lib/python3.5/site-packages/pymongo/network.py\u001b[0m in \u001b[0;36m_receive_data_on_socket\u001b[0;34m(sock, length)\u001b[0m\n\u001b[1;32m    148\u001b[0m     \u001b[0;32mwhile\u001b[0m \u001b[0mlength\u001b[0m\u001b[0;34m:\u001b[0m\u001b[0;34m\u001b[0m\u001b[0m\n\u001b[1;32m    149\u001b[0m         \u001b[0;32mtry\u001b[0m\u001b[0;34m:\u001b[0m\u001b[0;34m\u001b[0m\u001b[0m\n\u001b[0;32m--> 150\u001b[0;31m             \u001b[0mchunk\u001b[0m \u001b[0;34m=\u001b[0m \u001b[0msock\u001b[0m\u001b[0;34m.\u001b[0m\u001b[0mrecv\u001b[0m\u001b[0;34m(\u001b[0m\u001b[0mlength\u001b[0m\u001b[0;34m)\u001b[0m\u001b[0;34m\u001b[0m\u001b[0m\n\u001b[0m\u001b[1;32m    151\u001b[0m         \u001b[0;32mexcept\u001b[0m \u001b[0;34m(\u001b[0m\u001b[0mIOError\u001b[0m\u001b[0;34m,\u001b[0m \u001b[0mOSError\u001b[0m\u001b[0;34m)\u001b[0m \u001b[0;32mas\u001b[0m \u001b[0mexc\u001b[0m\u001b[0;34m:\u001b[0m\u001b[0;34m\u001b[0m\u001b[0m\n\u001b[1;32m    152\u001b[0m             \u001b[0merr\u001b[0m \u001b[0;34m=\u001b[0m \u001b[0;32mNone\u001b[0m\u001b[0;34m\u001b[0m\u001b[0m\n",
      "\u001b[0;31mKeyboardInterrupt\u001b[0m: "
     ]
    }
   ],
   "source": [
    "print(\"About to count.\")\n",
    "total_for_query = articles.count(query)\n",
    "num_to_annotate = args.l if args.l is not None else total_for_query\n",
    "num_workers = int(args.w)\n",
    "print(\"Total for query is {}.\".format(total_for_query))"
   ]
  },
  {
   "cell_type": "code",
   "execution_count": 25,
   "metadata": {},
   "outputs": [
    {
     "name": "stderr",
     "output_type": "stream",
     "text": [
      "Traceback (most recent call last):\n",
      "  File \"/usr/local/Cellar/python3/3.5.2/Frameworks/Python.framework/Versions/3.5/lib/python3.5/multiprocessing/queues.py\", line 247, in _feed\n",
      "    send_bytes(obj)\n",
      "  File \"/usr/local/Cellar/python3/3.5.2/Frameworks/Python.framework/Versions/3.5/lib/python3.5/multiprocessing/connection.py\", line 200, in send_bytes\n",
      "    self._send_bytes(m[offset:offset + size])\n",
      "  File \"/usr/local/Cellar/python3/3.5.2/Frameworks/Python.framework/Versions/3.5/lib/python3.5/multiprocessing/connection.py\", line 404, in _send_bytes\n",
      "    self._send(header + buf)\n",
      "  File \"/usr/local/Cellar/python3/3.5.2/Frameworks/Python.framework/Versions/3.5/lib/python3.5/multiprocessing/connection.py\", line 368, in _send\n",
      "    n = write(self._handle, buf)\n",
      "BrokenPipeError: [Errno 32] Broken pipe\n"
     ]
    },
    {
     "data": {
      "text/plain": [
       "1.4686439037322998"
      ]
     },
     "execution_count": 25,
     "metadata": {},
     "output_type": "execute_result"
    }
   ],
   "source": [
    "t1 = time.time()\n",
    "cursor = articles.find(query, [\"_id\"], limit=4000, no_cursor_timeout=True)\n",
    "\n",
    "queue = mp.Queue()\n",
    "\n",
    "for i in cursor:\n",
    "    queue.put(i)\n",
    "time.time() - t1"
   ]
  },
  {
   "cell_type": "code",
   "execution_count": 29,
   "metadata": {},
   "outputs": [
    {
     "data": {
      "text/plain": [
       "{'_id': '20_Century_Br_Hist_2015_Sep_27_26(3)_450-476'}"
      ]
     },
     "execution_count": 29,
     "metadata": {},
     "output_type": "execute_result"
    }
   ],
   "source": [
    "queue.get()"
   ]
  },
  {
   "cell_type": "code",
   "execution_count": 176,
   "metadata": {},
   "outputs": [
    {
     "name": "stdout",
     "output_type": "stream",
     "text": [
      "About to start.\n",
      "Cursor count: 10000\n",
      "Cursor count: 10000\n",
      "Cursor count: 10000\n",
      "Trying article 0.\n",
      "Trying article 1.\n",
      "Trying article 2.\n",
      "Cursor count: 10000\n",
      "Trying article 3.\n",
      "Cursor count: 10000\n",
      "Trying article 4.\n",
      "Cursor count: 10000\n",
      "Trying article 6.\n",
      "Cursor count: 10000\n",
      "Trying article 7.\n",
      "Trying article 5.\n",
      "Cursor count: 9999\n",
      "Trying article 8.\n",
      "Trying article 9.\n",
      "Trying article 10.\n",
      "Trying article 11.\n",
      "Trying article 12.\n",
      "Trying article 13.\n",
      "Trying article 14.\n",
      "Trying article 15.\n",
      "Trying article 16.\n",
      "Trying article 17.\n",
      "Trying article 18.\n",
      "Trying article 19.\n",
      "Trying article 20.\n",
      "Trying article 22.\n",
      "Trying article 21.\n",
      "Trying article 23.\n",
      "Trying article 24.\n",
      "Trying article 25.\n",
      "Trying article 26.\n",
      "Trying article 27.\n",
      "Trying article 29.\n",
      "Trying article 28.\n",
      "Trying article 31.\n",
      "Trying article 30.\n",
      "Trying article 32.\n",
      "Trying article 33.\n",
      "Trying article 34.\n",
      "Trying article 35.\n",
      "Trying article 37.\n",
      "Trying article 36.\n",
      "Trying article 38.\n",
      "Trying article 39.\n",
      "Trying article 42.\n",
      "Trying article 40.\n",
      "Trying article 41.\n",
      "Trying article 43.\n",
      "Trying article 44.\n",
      "Trying article 45.\n",
      "Trying article 46.\n",
      "Trying article 47.\n",
      "Trying article 48.\n",
      "Trying article 49.\n",
      "Trying article 50.\n",
      "Trying article 52.\n",
      "Trying article 51.\n",
      "Trying article 55.\n",
      "Trying article 53.\n",
      "Trying article 54.\n",
      "Trying article 56.\n",
      "Trying article 57.\n",
      "Trying article 58.\n",
      "Trying article 60.\n",
      "Trying article 59.\n",
      "Trying article 61.\n",
      "Trying article 62.\n",
      "Trying article 63.\n",
      "Trying article 64.\n",
      "Trying article 65.\n",
      "Trying article 67.\n",
      "Trying article 66.\n",
      "Trying article 68.\n",
      "Trying article 69.\n",
      "Trying article 70.\n",
      "Trying article 71.\n",
      "Trying article 72.\n",
      "Trying article 73.\n",
      "Trying article 74.\n",
      "Trying article 76.\n",
      "Trying article 75.\n",
      "Trying article 77.\n",
      "Trying article 78.\n",
      "Trying article 80.\n",
      "Trying article 79.\n",
      "Trying article 81.\n",
      "Trying article 82.\n",
      "Trying article 83.\n",
      "Trying article 84.\n",
      "Trying article 85.\n",
      "Trying article 86.\n",
      "Trying article 87.\n",
      "Trying article 89.\n",
      "Trying article 88.\n",
      "Trying article 90.\n",
      "Trying article 92.\n",
      "Trying article 91.\n",
      "Trying article 93.\n",
      "Trying article 94.\n",
      "Trying article 95.\n",
      "Trying article 96.\n",
      "Trying article 98.\n",
      "Trying article 97.\n",
      "Trying article 99.\n",
      "Trying article 100.\n",
      "Trying article 101.\n",
      "Trying article 102.\n",
      "Trying article 103.\n",
      "Trying article 104.\n",
      "Trying article 105.\n",
      "Trying article 106.\n",
      "Trying article 107.\n",
      "Trying article 108.\n",
      "Trying article 109.\n",
      "Trying article 110.\n",
      "Trying article 111.\n",
      "Trying article 112.\n",
      "Trying article 113.\n",
      "Trying article 115.\n",
      "Trying article 114.\n",
      "Trying article 116.\n",
      "Trying article 117.\n",
      "Trying article 118.\n",
      "Trying article 119.\n",
      "Trying article 120.\n",
      "Trying article 122.\n",
      "Trying article 121.\n",
      "Trying article 124.\n",
      "Trying article 123.\n",
      "Trying article 125.\n",
      "Trying article 126.\n",
      "Trying article 127.\n",
      "Trying article 128.\n",
      "Trying article 129.\n",
      "Trying article 130.\n",
      "Trying article 131.\n",
      "Trying article 132.\n",
      "Trying article 133.\n",
      "Trying article 134.\n",
      "Trying article 135.\n",
      "Trying article 137.\n",
      "Trying article 136.\n",
      "Trying article 138.\n",
      "Trying article 139.\n",
      "Trying article 140.\n",
      "Trying article 141.\n",
      "Trying article 142.\n",
      "Trying article 143.\n",
      "Trying article 144.\n",
      "Trying article 145.\n",
      "Trying article 147.\n",
      "Trying article 146.\n",
      "Trying article 148.\n",
      "Trying article 149.\n",
      "Trying article 150.\n",
      "Trying article 151.\n",
      "Trying article 152.\n",
      "Trying article 153.\n",
      "Trying article 155.\n",
      "Trying article 154.\n",
      "Trying article 156.\n",
      "Trying article 157.\n",
      "Trying article 158.\n",
      "Trying article 159.\n",
      "Trying article 160.\n",
      "Trying article 161.\n",
      "Trying article 162.\n",
      "Trying article 164.\n",
      "Trying article 163.\n",
      "Trying article 165.\n",
      "Trying article 166.\n",
      "Trying article 167.\n",
      "Trying article 168.\n",
      "Trying article 169.\n",
      "Trying article 170.\n",
      "Trying article 171.\n",
      "Trying article 172.\n",
      "Trying article 173.\n",
      "Trying article 175.\n",
      "Trying article 174.\n",
      "Trying article 176.\n",
      "Trying article 177.\n",
      "Trying article 178.\n",
      "Trying article 179.\n",
      "Trying article 181.\n",
      "Trying article 180.\n",
      "Trying article 182.\n",
      "Trying article 184.\n",
      "Trying article 183.\n",
      "Trying article 185.\n",
      "Trying article 186.\n",
      "Trying article 187.\n",
      "Trying article 188.\n",
      "Trying article 189.\n",
      "Trying article 190.\n",
      "Trying article 191.\n",
      "Trying article 193.\n",
      "Trying article 192.\n",
      "Trying article 194.\n",
      "Trying article 195.\n",
      "Trying article 196.\n",
      "Trying article 197.\n",
      "Trying article 198.\n",
      "Trying article 199.\n",
      "Trying article 201.\n",
      "Trying article 200.\n",
      "Trying article 203.\n",
      "Trying article 202.\n",
      "Trying article 204.\n",
      "Trying article 206.\n",
      "Trying article 205.\n",
      "Trying article 207.\n",
      "Trying article 208.\n",
      "Trying article 210.\n",
      "Trying article 209.\n",
      "Trying article 211.\n",
      "Trying article 212.\n",
      "Trying article 213.\n",
      "Trying article 215.\n",
      "Trying article 214.\n",
      "Trying article 216.\n",
      "Trying article 217.\n",
      "Trying article 218.\n",
      "Trying article 219.\n",
      "Trying article 220.\n",
      "Trying article 221.\n",
      "Trying article 222.\n",
      "Trying article 223.\n",
      "Trying article 224.\n",
      "Trying article 226.\n",
      "Trying article 225.\n",
      "Trying article 227.\n",
      "Trying article 228.\n",
      "Trying article 229.\n",
      "Trying article 230.\n",
      "Trying article 231.\n",
      "Trying article 232.\n",
      "Trying article 233.\n",
      "Trying article 234.\n",
      "Trying article 235.\n",
      "Trying article 236.\n",
      "Trying article 238.\n",
      "Trying article 237.\n",
      "Trying article 239.\n",
      "Trying article 240.\n",
      "Trying article 241.\n",
      "Trying article 242.\n",
      "Trying article 244.\n",
      "Trying article 243.\n",
      "Trying article 245.\n",
      "Trying article 246.\n",
      "Trying article 247.\n",
      "Trying article 248.\n",
      "Trying article 249.\n",
      "Trying article 250.\n",
      "Trying article 251.\n",
      "Trying article 252.\n",
      "Trying article 253.\n",
      "Trying article 254.\n",
      "Trying article 255.\n",
      "Trying article 256.\n",
      "Trying article 257.\n",
      "Trying article 258.\n",
      "Trying article 259.\n",
      "Trying article 262.\n",
      "Trying article 260.\n",
      "Trying article 261.\n",
      "Trying article 263.\n",
      "Trying article 264.\n",
      "Trying article 265.\n",
      "Trying article 266.\n",
      "Trying article 267.\n",
      "Trying article 268.\n",
      "Trying article 269.\n",
      "Trying article 270.\n",
      "Trying article 271.\n",
      "Trying article 272.\n",
      "Trying article 273.\n",
      "Trying article 274.\n",
      "Trying article 275.\n",
      "Trying article 276.\n",
      "Trying article 277.\n",
      "Trying article 278.\n",
      "Trying article 280.\n",
      "Trying article 279.\n",
      "Trying article 281.\n",
      "Trying article 282.\n",
      "Trying article 283.\n",
      "Trying article 285.\n",
      "Trying article 284.\n",
      "Trying article 286.\n",
      "Trying article 287.\n",
      "Trying article 288.\n",
      "Trying article 289.\n",
      "Trying article 290.\n",
      "Trying article 292.\n",
      "Trying article 293.\n",
      "Trying article 291.\n",
      "Trying article 294.\n",
      "Trying article 295.\n",
      "Trying article 296.\n",
      "Trying article 297.\n",
      "Trying article 298.\n",
      "Trying article 299.\n",
      "Trying article 300.\n",
      "Trying article 301.\n",
      "Trying article 302.\n",
      "Trying article 303.\n",
      "Trying article 304.\n",
      "Trying article 306.\n",
      "Trying article 305.\n",
      "Trying article 307.\n",
      "Trying article 308.\n",
      "Trying article 309.\n",
      "Trying article 310.\n",
      "Trying article 312.\n",
      "Trying article 311.\n",
      "Trying article 313.\n",
      "Trying article 314.\n",
      "Trying article 315.\n"
     ]
    },
    {
     "name": "stderr",
     "output_type": "stream",
     "text": [
      "Process Process-7:\n",
      "Process Process-1:\n",
      "Process Process-3:\n",
      "Process Process-4:\n",
      "Process Process-8:\n",
      "Process Process-5:\n",
      "Traceback (most recent call last):\n",
      "Process Process-6:\n",
      "  File \"/usr/local/Cellar/python3/3.5.2/Frameworks/Python.framework/Versions/3.5/lib/python3.5/multiprocessing/process.py\", line 249, in _bootstrap\n",
      "    self.run()\n",
      "Traceback (most recent call last):\n",
      "  File \"/usr/local/Cellar/python3/3.5.2/Frameworks/Python.framework/Versions/3.5/lib/python3.5/multiprocessing/process.py\", line 249, in _bootstrap\n",
      "    self.run()\n",
      "  File \"/usr/local/Cellar/python3/3.5.2/Frameworks/Python.framework/Versions/3.5/lib/python3.5/multiprocessing/process.py\", line 93, in run\n",
      "    self._target(*self._args, **self._kwargs)\n",
      "Traceback (most recent call last):\n",
      "  File \"/usr/local/Cellar/python3/3.5.2/Frameworks/Python.framework/Versions/3.5/lib/python3.5/multiprocessing/process.py\", line 93, in run\n",
      "    self._target(*self._args, **self._kwargs)\n",
      "  File \"<ipython-input-4-3e404bb8dc9d>\", line 19, in worker\n",
      "    to_write = ex.combine_extracted_info(article, to_extract)\n",
      "Traceback (most recent call last):\n",
      "  File \"/usr/local/Cellar/python3/3.5.2/Frameworks/Python.framework/Versions/3.5/lib/python3.5/multiprocessing/process.py\", line 249, in _bootstrap\n",
      "    self.run()\n",
      "  File \"/Users/toph/Dropbox (EHA)/repositories/pubcrawler/pubcrawler/extractors.py\", line 211, in combine_extracted_info\n",
      "    extracted.update(f(article))\n",
      "Traceback (most recent call last):\n",
      "  File \"/Users/toph/Dropbox (EHA)/repositories/pubcrawler/pubcrawler/extractors.py\", line 106, in extract_meta\n",
      "    pc_article = pubcrawler.Article(article)\n",
      "Traceback (most recent call last):\n",
      "  File \"/usr/local/Cellar/python3/3.5.2/Frameworks/Python.framework/Versions/3.5/lib/python3.5/multiprocessing/process.py\", line 93, in run\n",
      "    self._target(*self._args, **self._kwargs)\n",
      "  File \"/usr/local/Cellar/python3/3.5.2/Frameworks/Python.framework/Versions/3.5/lib/python3.5/multiprocessing/process.py\", line 249, in _bootstrap\n",
      "    self.run()\n",
      "  File \"/Users/toph/Dropbox (EHA)/repositories/pubcrawler/pubcrawler/article.py\", line 20, in __init__\n",
      "    self.soup = BeautifulSoup(self.nxml, 'lxml-xml')\n",
      "  File \"/usr/local/Cellar/python3/3.5.2/Frameworks/Python.framework/Versions/3.5/lib/python3.5/multiprocessing/process.py\", line 249, in _bootstrap\n",
      "    self.run()\n",
      "Traceback (most recent call last):\n",
      "  File \"<ipython-input-4-3e404bb8dc9d>\", line 19, in worker\n",
      "    to_write = ex.combine_extracted_info(article, to_extract)\n",
      "  File \"<ipython-input-4-3e404bb8dc9d>\", line 19, in worker\n",
      "    to_write = ex.combine_extracted_info(article, to_extract)\n",
      "  File \"/usr/local/Cellar/python3/3.5.2/Frameworks/Python.framework/Versions/3.5/lib/python3.5/multiprocessing/process.py\", line 93, in run\n",
      "    self._target(*self._args, **self._kwargs)\n",
      "  File \"/Users/toph/.virtualenvs/pubcrawler/lib/python3.5/site-packages/bs4/__init__.py\", line 228, in __init__\n",
      "    self._feed()\n",
      "  File \"/usr/local/Cellar/python3/3.5.2/Frameworks/Python.framework/Versions/3.5/lib/python3.5/multiprocessing/process.py\", line 249, in _bootstrap\n",
      "    self.run()\n",
      "  File \"/usr/local/Cellar/python3/3.5.2/Frameworks/Python.framework/Versions/3.5/lib/python3.5/multiprocessing/process.py\", line 93, in run\n",
      "    self._target(*self._args, **self._kwargs)\n",
      "  File \"/Users/toph/Dropbox (EHA)/repositories/pubcrawler/pubcrawler/extractors.py\", line 211, in combine_extracted_info\n",
      "    extracted.update(f(article))\n",
      "  File \"/usr/local/Cellar/python3/3.5.2/Frameworks/Python.framework/Versions/3.5/lib/python3.5/multiprocessing/process.py\", line 249, in _bootstrap\n",
      "    self.run()\n",
      "  File \"/usr/local/Cellar/python3/3.5.2/Frameworks/Python.framework/Versions/3.5/lib/python3.5/multiprocessing/process.py\", line 93, in run\n",
      "    self._target(*self._args, **self._kwargs)\n",
      "  File \"/Users/toph/Dropbox (EHA)/repositories/pubcrawler/pubcrawler/extractors.py\", line 106, in extract_meta\n",
      "    pc_article = pubcrawler.Article(article)\n",
      "  File \"/Users/toph/.virtualenvs/pubcrawler/lib/python3.5/site-packages/bs4/__init__.py\", line 289, in _feed\n",
      "    self.builder.feed(self.markup)\n",
      "  File \"<ipython-input-4-3e404bb8dc9d>\", line 19, in worker\n",
      "    to_write = ex.combine_extracted_info(article, to_extract)\n",
      "  File \"/Users/toph/Dropbox (EHA)/repositories/pubcrawler/pubcrawler/extractors.py\", line 211, in combine_extracted_info\n",
      "    extracted.update(f(article))\n",
      "  File \"<ipython-input-4-3e404bb8dc9d>\", line 19, in worker\n",
      "    to_write = ex.combine_extracted_info(article, to_extract)\n",
      "  File \"/Users/toph/.virtualenvs/pubcrawler/lib/python3.5/site-packages/bs4/builder/_lxml.py\", line 137, in feed\n",
      "    self.parser.feed(data)\n",
      "  File \"/Users/toph/Dropbox (EHA)/repositories/pubcrawler/pubcrawler/article.py\", line 20, in __init__\n",
      "    self.soup = BeautifulSoup(self.nxml, 'lxml-xml')\n",
      "  File \"src/lxml/parser.pxi\", line 1205, in lxml.etree._FeedParser.feed (src/lxml/lxml.etree.c:112186)\n",
      "  File \"/Users/toph/.virtualenvs/pubcrawler/lib/python3.5/site-packages/bs4/__init__.py\", line 228, in __init__\n",
      "    self._feed()\n",
      "  File \"/Users/toph/Dropbox (EHA)/repositories/pubcrawler/pubcrawler/extractors.py\", line 211, in combine_extracted_info\n",
      "    extracted.update(f(article))\n",
      "  File \"/usr/local/Cellar/python3/3.5.2/Frameworks/Python.framework/Versions/3.5/lib/python3.5/multiprocessing/process.py\", line 93, in run\n",
      "    self._target(*self._args, **self._kwargs)\n",
      "  File \"src/lxml/parser.pxi\", line 1327, in lxml.etree._FeedParser.feed (src/lxml/lxml.etree.c:112061)\n",
      "  File \"/Users/toph/Dropbox (EHA)/repositories/pubcrawler/pubcrawler/extractors.py\", line 106, in extract_meta\n",
      "    pc_article = pubcrawler.Article(article)\n",
      "  File \"/Users/toph/Dropbox (EHA)/repositories/pubcrawler/pubcrawler/extractors.py\", line 106, in extract_meta\n",
      "    pc_article = pubcrawler.Article(article)\n",
      "  File \"<ipython-input-4-3e404bb8dc9d>\", line 19, in worker\n",
      "    to_write = ex.combine_extracted_info(article, to_extract)\n",
      "  File \"/Users/toph/Dropbox (EHA)/repositories/pubcrawler/pubcrawler/extractors.py\", line 211, in combine_extracted_info\n",
      "    extracted.update(f(article))\n",
      "  File \"/Users/toph/.virtualenvs/pubcrawler/lib/python3.5/site-packages/bs4/__init__.py\", line 289, in _feed\n",
      "    self.builder.feed(self.markup)\n",
      "  File \"/Users/toph/Dropbox (EHA)/repositories/pubcrawler/pubcrawler/article.py\", line 20, in __init__\n",
      "    self.soup = BeautifulSoup(self.nxml, 'lxml-xml')\n",
      "  File \"<ipython-input-4-3e404bb8dc9d>\", line 19, in worker\n",
      "    to_write = ex.combine_extracted_info(article, to_extract)\n",
      "  File \"/Users/toph/Dropbox (EHA)/repositories/pubcrawler/pubcrawler/article.py\", line 20, in __init__\n",
      "    self.soup = BeautifulSoup(self.nxml, 'lxml-xml')\n",
      "  File \"/Users/toph/Dropbox (EHA)/repositories/pubcrawler/pubcrawler/extractors.py\", line 211, in combine_extracted_info\n",
      "    extracted.update(f(article))\n",
      "  File \"/Users/toph/.virtualenvs/pubcrawler/lib/python3.5/site-packages/bs4/__init__.py\", line 228, in __init__\n",
      "    self._feed()\n",
      "  File \"/Users/toph/Dropbox (EHA)/repositories/pubcrawler/pubcrawler/extractors.py\", line 211, in combine_extracted_info\n",
      "    extracted.update(f(article))\n",
      "  File \"src/lxml/parsertarget.pxi\", line 141, in lxml.etree._TargetParserContext._handleParseResult (src/lxml/lxml.etree.c:128510)\n"
     ]
    }
   ],
   "source": [
    "queue = mp.Queue()\n",
    "for i in range(num_to_annotate):\n",
    "    queue.put(i)\n",
    "for w in range(num_workers):\n",
    "    queue.put('STOP')\n",
    "\n",
    "# # Chunking, which we don't do any more.\n",
    "# queue = mp.Queue()\n",
    "# for i in chunk_slices(num_to_annotate, by = 100):\n",
    "#     queue.put(i)\n",
    "# for w in range(num_workers):\n",
    "#     queue.put('STOP')\n",
    "\n",
    "worker_args = (\n",
    "    args.u,\n",
    "    args.d,\n",
    "    args.c,\n",
    "    extractor_funs,\n",
    "    query,\n",
    "    queue,\n",
    ")\n",
    "\n",
    "print(\"About to start.\")\n",
    "\n",
    "for w in range(num_workers):\n",
    "    mp.Process(target=worker, args=worker_args).start()\n",
    "\n",
    "# while not queue.empty():\n",
    "#     print(\"Still going...\")\n",
    "#     # total_for_query_now = articles.count(query)\n",
    "#     # done = total_for_query - total_for_query_now\n",
    "#     # left = num_to_annotate - done\n",
    "#     # print(\"Annotated {} out of {} articles ({:.2%}). {} remaining.\".format(done,\n",
    "#         # num_to_annotate, done / num_to_annotate, left))\n",
    "#     time.sleep(5)"
   ]
  },
  {
   "cell_type": "code",
   "execution_count": 147,
   "metadata": {
    "collapsed": true
   },
   "outputs": [],
   "source": [
    "test.drop()\n",
    "test = pymongo.MongoClient()[\"test\"][\"test\"]"
   ]
  },
  {
   "cell_type": "code",
   "execution_count": 148,
   "metadata": {},
   "outputs": [],
   "source": [
    "for i in range(1000):\n",
    "    test.insert_one({\"_id\": i})"
   ]
  },
  {
   "cell_type": "code",
   "execution_count": 149,
   "metadata": {
    "collapsed": true
   },
   "outputs": [],
   "source": [
    "cursor1 = test.find()"
   ]
  },
  {
   "cell_type": "code",
   "execution_count": 150,
   "metadata": {
    "collapsed": true
   },
   "outputs": [],
   "source": [
    "query = {\"meta\": {'$exists': False}}"
   ]
  },
  {
   "cell_type": "code",
   "execution_count": 151,
   "metadata": {
    "collapsed": true
   },
   "outputs": [],
   "source": [
    "cursor1 = test.find(query)"
   ]
  },
  {
   "cell_type": "code",
   "execution_count": 152,
   "metadata": {},
   "outputs": [
    {
     "data": {
      "text/plain": [
       "range(0, 1000)"
      ]
     },
     "execution_count": 152,
     "metadata": {},
     "output_type": "execute_result"
    }
   ],
   "source": [
    "x = range(test.find(query).count())\n",
    "x"
   ]
  },
  {
   "cell_type": "code",
   "execution_count": 153,
   "metadata": {},
   "outputs": [],
   "source": [
    "queue = mp.Queue()\n",
    "for i in x:\n",
    "    queue.put(i)"
   ]
  },
  {
   "cell_type": "code",
   "execution_count": 154,
   "metadata": {
    "collapsed": true
   },
   "outputs": [],
   "source": [
    "# cursor1 = test.find(query, modifiers={\"$snapshot\": True})"
   ]
  },
  {
   "cell_type": "code",
   "execution_count": 166,
   "metadata": {},
   "outputs": [
    {
     "name": "stdout",
     "output_type": "stream",
     "text": [
      "Trying article 11.\n",
      "{'_id': 22}\n"
     ]
    },
    {
     "data": {
      "text/plain": [
       "<pymongo.results.UpdateResult at 0x109d76438>"
      ]
     },
     "execution_count": 166,
     "metadata": {},
     "output_type": "execute_result"
    }
   ],
   "source": [
    "i = queue.get()\n",
    "print(\"Trying article {}.\".format(i))\n",
    "try:\n",
    "    article = cursor1[i]\n",
    "    print(article)\n",
    "except IndexError:\n",
    "    print(\"Failed lookup for article{}.\".format(i))\n",
    "to_write = {\"meta\": \"bar\"}\n",
    "test.update_one({'_id': article['_id']}, {'$set': to_write})"
   ]
  },
  {
   "cell_type": "code",
   "execution_count": 106,
   "metadata": {},
   "outputs": [
    {
     "name": "stdout",
     "output_type": "stream",
     "text": [
      "Trying article 18.\n",
      "{'meta': 'bar', '_id': 5}\n"
     ]
    },
    {
     "data": {
      "text/plain": [
       "<pymongo.results.UpdateResult at 0x109d24b40>"
      ]
     },
     "execution_count": 106,
     "metadata": {},
     "output_type": "execute_result"
    }
   ],
   "source": [
    "i = queue.get()\n",
    "print(\"Trying article {}.\".format(i))\n",
    "try:\n",
    "    article = cursor2.next()\n",
    "    print(article)\n",
    "except IndexError:\n",
    "    print(\"Failed lookup for article{}.\".format(i))\n",
    "to_write = {\"meta\": \"bar\"}\n",
    "test.update_one({'_id': article['_id']}, {'$set': to_write})"
   ]
  },
  {
   "cell_type": "code",
   "execution_count": null,
   "metadata": {
    "collapsed": true
   },
   "outputs": [],
   "source": []
  }
 ],
 "metadata": {
  "kernelspec": {
   "display_name": "Python 2",
   "language": "python",
   "name": "python2"
  },
  "language_info": {
   "codemirror_mode": {
    "name": "ipython",
    "version": 2
   },
   "file_extension": ".py",
   "mimetype": "text/x-python",
   "name": "python",
   "nbconvert_exporter": "python",
   "pygments_lexer": "ipython2",
   "version": "2.7.14"
  }
 },
 "nbformat": 4,
 "nbformat_minor": 1
}
